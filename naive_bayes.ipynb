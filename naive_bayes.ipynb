{
 "cells": [
  {
   "cell_type": "code",
   "execution_count": 1,
   "id": "13732fa8-e34b-46c3-97b9-c315579a4abf",
   "metadata": {},
   "outputs": [
    {
     "name": "stdout",
     "output_type": "stream",
     "text": [
      "Requirement already satisfied: matplotlib in /Users/arush/pyVirtualEnvs/jupyterenv/lib/python3.9/site-packages (3.8.3)\n",
      "Requirement already satisfied: importlib-resources>=3.2.0 in /Users/arush/pyVirtualEnvs/jupyterenv/lib/python3.9/site-packages (from matplotlib) (6.3.0)\n",
      "Requirement already satisfied: pillow>=8 in /Users/arush/pyVirtualEnvs/jupyterenv/lib/python3.9/site-packages (from matplotlib) (10.2.0)\n",
      "Requirement already satisfied: pyparsing>=2.3.1 in /Users/arush/pyVirtualEnvs/jupyterenv/lib/python3.9/site-packages (from matplotlib) (3.1.2)\n",
      "Requirement already satisfied: contourpy>=1.0.1 in /Users/arush/pyVirtualEnvs/jupyterenv/lib/python3.9/site-packages (from matplotlib) (1.2.0)\n",
      "Requirement already satisfied: numpy<2,>=1.21 in /Users/arush/pyVirtualEnvs/jupyterenv/lib/python3.9/site-packages (from matplotlib) (1.26.4)\n",
      "Requirement already satisfied: fonttools>=4.22.0 in /Users/arush/pyVirtualEnvs/jupyterenv/lib/python3.9/site-packages (from matplotlib) (4.49.0)\n",
      "Requirement already satisfied: cycler>=0.10 in /Users/arush/pyVirtualEnvs/jupyterenv/lib/python3.9/site-packages (from matplotlib) (0.12.1)\n",
      "Requirement already satisfied: python-dateutil>=2.7 in /Users/arush/pyVirtualEnvs/jupyterenv/lib/python3.9/site-packages (from matplotlib) (2.9.0.post0)\n",
      "Requirement already satisfied: packaging>=20.0 in /Users/arush/pyVirtualEnvs/jupyterenv/lib/python3.9/site-packages (from matplotlib) (24.0)\n",
      "Requirement already satisfied: kiwisolver>=1.3.1 in /Users/arush/pyVirtualEnvs/jupyterenv/lib/python3.9/site-packages (from matplotlib) (1.4.5)\n",
      "Requirement already satisfied: zipp>=3.1.0 in /Users/arush/pyVirtualEnvs/jupyterenv/lib/python3.9/site-packages (from importlib-resources>=3.2.0->matplotlib) (3.17.0)\n",
      "Requirement already satisfied: six>=1.5 in /Users/arush/pyVirtualEnvs/jupyterenv/lib/python3.9/site-packages (from python-dateutil>=2.7->matplotlib) (1.16.0)\n",
      "\u001b[33mWARNING: You are using pip version 21.2.4; however, version 24.0 is available.\n",
      "You should consider upgrading via the '/Users/arush/pyVirtualEnvs/jupyterenv/bin/python3 -m pip install --upgrade pip' command.\u001b[0m\n"
     ]
    }
   ],
   "source": [
    "!pip3 install matplotlib"
   ]
  },
  {
   "cell_type": "code",
   "execution_count": 2,
   "id": "ce4d077f-ac68-47a9-80cb-26566489d94a",
   "metadata": {},
   "outputs": [
    {
     "name": "stderr",
     "output_type": "stream",
     "text": [
      "[nltk_data] Downloading package stopwords to /Users/arush/nltk_data...\n",
      "[nltk_data]   Package stopwords is already up-to-date!\n"
     ]
    }
   ],
   "source": [
    "import utils\n",
    "import numpy as np\n",
    "import random\n",
    "import matplotlib.pyplot as plt\n",
    "from collections import Counter"
   ]
  },
  {
   "cell_type": "code",
   "execution_count": 3,
   "id": "33eb9c4f-9243-4e94-81d8-3441233626d3",
   "metadata": {},
   "outputs": [],
   "source": [
    "def create_matrix(instances, vocabulary):\n",
    "    matrix = np.zeros((len(instances), len(vocabulary)), dtype=int)\n",
    "    word_to_index = {word: i for i, word in enumerate(vocabulary)}\n",
    "    \n",
    "    for i, instance in enumerate(instances):\n",
    "        for word in instance:\n",
    "            if word in word_to_index:\n",
    "                matrix[i][word_to_index[word]] += 1\n",
    "    \n",
    "    return matrix"
   ]
  },
  {
   "cell_type": "code",
   "execution_count": 4,
   "id": "44c4f5cd-e430-42be-98e9-2cb7a5319a48",
   "metadata": {},
   "outputs": [],
   "source": [
    "def compute_word_probabilities(matrix, alpha):\n",
    "    word_count_vector = np.sum(matrix, axis=0)\n",
    "    total_words = np.sum(word_count_vector)\n",
    "    word_probabilities = (word_count_vector + alpha) / (total_words + alpha * len(word_count_vector))\n",
    "    return word_probabilities, total_words"
   ]
  },
  {
   "cell_type": "code",
   "execution_count": 5,
   "id": "1d5fbbdb-d046-4a42-bbd4-fb4c30f43a0f",
   "metadata": {},
   "outputs": [],
   "source": [
    "def compute_class_probability_matrix(instances, vocabulary, alpha):\n",
    "    matrix = create_matrix(instances, vocabulary)\n",
    "    word_probabilities, total_words = compute_word_probabilities(matrix, alpha)\n",
    "    return word_probabilities, total_words"
   ]
  },
  {
   "cell_type": "code",
   "execution_count": 6,
   "id": "f727a453-07de-469c-a08e-e4def1b7de90",
   "metadata": {},
   "outputs": [],
   "source": [
    "def test_prob(instance, class_probabilities, prior_probability, word_to_index):\n",
    "    prob = prior_probability\n",
    "    for word in instance:\n",
    "        if word in word_to_index:\n",
    "            word_prob = class_probabilities[word_to_index[word]]\n",
    "            prob *= word_prob\n",
    "        else:\n",
    "            prob *= 0\n",
    "            break\n",
    "    return prob"
   ]
  },
  {
   "cell_type": "code",
   "execution_count": 7,
   "id": "5171459e-a88a-415b-b9a6-c563e6605149",
   "metadata": {},
   "outputs": [],
   "source": [
    "def test_log_prob(instance, class_probabilities, prior_probability, word_to_index):\n",
    "    log_prob = np.log(prior_probability)\n",
    "    for word in instance:\n",
    "        if word in word_to_index:\n",
    "            word_prob = class_probabilities[word_to_index[word]]\n",
    "            if word_prob > 0:\n",
    "                log_prob += np.log(word_prob)\n",
    "            else:\n",
    "                log_prob += np.log(1e-8)  \n",
    "        else:\n",
    "            log_prob += np.log(1e-8)  \n",
    "    return log_prob"
   ]
  },
  {
   "cell_type": "code",
   "execution_count": 8,
   "id": "ecb742be-9801-4a29-a1f6-1ca83b3dc8ba",
   "metadata": {},
   "outputs": [],
   "source": [
    "def test_log_prob_with_smoothing(instance, class_probabilities, prior_probability, total_words, word_to_index, alpha):\n",
    "    log_prob = np.log(prior_probability)\n",
    "    for word in instance:\n",
    "        if word in word_to_index:\n",
    "            word_prob = class_probabilities[word_to_index[word]]\n",
    "            log_prob += np.log(word_prob)\n",
    "        else:\n",
    "            log_prob += np.log(alpha / (total_words + alpha * len(word_to_index)))  \n",
    "    return log_prob"
   ]
  },
  {
   "cell_type": "code",
   "execution_count": 9,
   "id": "37bda3e4-4ffa-40ee-bad4-4ff4afa83e9b",
   "metadata": {},
   "outputs": [],
   "source": [
    "def load_dataset(test_size, train_size=1.0, pos_size=None, neg_size=None):\n",
    "    if pos_size != None and neg_size != None:\n",
    "        positive_instances, negative_instances, vocab = utils.load_training_set(pos_size, neg_size) \n",
    "        positive_test_instances, negative_test_instances = utils.load_test_set(test_size, test_size)\n",
    "    else:\n",
    "        positive_instances, negative_instances, vocab = utils.load_training_set(train_size, train_size) \n",
    "        positive_test_instances, negative_test_instances = utils.load_test_set(test_size, test_size)\n",
    "    return positive_instances, negative_instances, vocab, positive_test_instances, negative_test_instances"
   ]
  },
  {
   "cell_type": "code",
   "execution_count": 10,
   "id": "a635c6e6-0acf-4dad-8fc1-5b4edce4204b",
   "metadata": {},
   "outputs": [],
   "source": [
    "def confusion_matrix(true_label, pred_label):\n",
    "  classes = [1,0]\n",
    "  matrix = np.zeros((len(classes), len(classes)))\n",
    "  for y, y_hat in zip(true_label, pred_label):\n",
    "    if y in classes and y_hat in classes:\n",
    "      matrix[classes.index(y), classes.index(y_hat)] += 1\n",
    "  return matrix\n",
    "\n",
    "def accuracy(true_label, pred_label):\n",
    "    confusion = confusion_matrix(true_label, pred_label)\n",
    "    correct = np.sum(np.diag(confusion))\n",
    "    total = np.sum(confusion)\n",
    "    return correct / total if total > 0 else 0.0\n",
    "\n",
    "def precision(true_label, pred_label, positive_class=0):\n",
    "    confusion = confusion_matrix(true_label, pred_label)\n",
    "    true_positives = confusion[positive_class, positive_class]\n",
    "    predicted_positives = np.sum(confusion[:, positive_class])\n",
    "    return true_positives / predicted_positives if predicted_positives > 0 else 0.0\n",
    "\n",
    "def recall(true_label, pred_label, positive_class=0):\n",
    "    confusion = confusion_matrix(true_label, pred_label)\n",
    "    true_positives = confusion[positive_class, positive_class]\n",
    "    actual_positives = np.sum(confusion[positive_class, :])\n",
    "    return true_positives / actual_positives if actual_positives > 0 else 0.0"
   ]
  },
  {
   "cell_type": "code",
   "execution_count": 11,
   "id": "c41dcd6b-8cc6-4d93-8be2-3e817d7c5329",
   "metadata": {},
   "outputs": [],
   "source": [
    "def evaluate_classifier(positive_instances, negative_instances, positive_probabilities, negative_probabilities, vocab):\n",
    "    word_to_index = {word: i for i, word in enumerate(vocab)}\n",
    "    positive_prior = len(positive_instances) / (len(positive_instances) + len(negative_instances))\n",
    "    negative_prior = 1 - positive_prior\n",
    "\n",
    "    true_labels = []\n",
    "    predicted_labels = []\n",
    "\n",
    "    random.seed(10)\n",
    "    \n",
    "    for instance in positive_instances:\n",
    "        pos_prob = test_prob(instance, positive_probabilities, positive_prior, word_to_index)\n",
    "        neg_prob = test_prob(instance, negative_probabilities, negative_prior, word_to_index)\n",
    "        if pos_prob > neg_prob:\n",
    "            predicted_labels.append(1)\n",
    "        elif pos_prob < neg_prob:\n",
    "            predicted_labels.append(0)\n",
    "        else: \n",
    "            predicted_labels.append(random.choice([0, 1]))\n",
    "        true_labels.append(1)\n",
    "\n",
    "    for instance in negative_instances:\n",
    "        pos_prob = test_prob(instance, positive_probabilities, positive_prior, word_to_index)\n",
    "        neg_prob = test_prob(instance, negative_probabilities, negative_prior, word_to_index)\n",
    "        if pos_prob > neg_prob:\n",
    "            predicted_labels.append(1)\n",
    "        elif pos_prob < neg_prob:\n",
    "            predicted_labels.append(0)\n",
    "        else: \n",
    "            predicted_labels.append(random.choice([0, 1]))\n",
    "        true_labels.append(0)\n",
    "\n",
    "    accuracy_score = accuracy(true_labels, predicted_labels)\n",
    "    precision_score = precision(true_labels, predicted_labels)\n",
    "    recall_score = recall(true_labels, predicted_labels)\n",
    "    confusion = confusion_matrix(true_labels, predicted_labels)\n",
    "    \n",
    "    return accuracy_score, precision_score, recall_score, confusion"
   ]
  },
  {
   "cell_type": "code",
   "execution_count": 12,
   "id": "974f8cf0-3454-42bc-a4ce-4837d12ebcc9",
   "metadata": {},
   "outputs": [],
   "source": [
    "def evaluate_log_classifier(positive_instances, negative_instances, positive_probabilities, negative_probabilities, vocab):\n",
    "    word_to_index = {word: i for i, word in enumerate(vocab)}\n",
    "    positive_prior = len(positive_instances) / (len(positive_instances) + len(negative_instances))\n",
    "    negative_prior = 1 - positive_prior\n",
    "\n",
    "    true_labels = []\n",
    "    predicted_labels = []\n",
    "\n",
    "    random.seed(10)\n",
    "    \n",
    "    for instance in positive_instances:\n",
    "        pos_log_prob = test_log_prob(instance, positive_probabilities, positive_prior, word_to_index)\n",
    "        neg_log_prob = test_log_prob(instance, negative_probabilities, negative_prior, word_to_index)\n",
    "        if pos_log_prob > neg_log_prob:\n",
    "            predicted_labels.append(1)\n",
    "        elif pos_log_prob < neg_log_prob:\n",
    "            predicted_labels.append(0)\n",
    "        else: \n",
    "            predicted_labels.append(random.choice([0, 1]))\n",
    "        true_labels.append(1)\n",
    "\n",
    "    for instance in negative_instances:\n",
    "        pos_log_prob = test_log_prob(instance, positive_probabilities, positive_prior, word_to_index)\n",
    "        neg_log_prob = test_log_prob(instance, negative_probabilities, negative_prior, word_to_index)\n",
    "        if pos_log_prob > neg_log_prob:\n",
    "            predicted_labels.append(1)\n",
    "        elif pos_log_prob < neg_log_prob:\n",
    "            predicted_labels.append(0)\n",
    "        else: \n",
    "            predicted_labels.append(random.choice([0, 1]))\n",
    "        true_labels.append(0)\n",
    "\n",
    "    accuracy_score = accuracy(true_labels, predicted_labels)\n",
    "    precision_score = precision(true_labels, predicted_labels)\n",
    "    recall_score = recall(true_labels, predicted_labels)\n",
    "    confusion = confusion_matrix(true_labels, predicted_labels)\n",
    "    \n",
    "    return accuracy_score, precision_score, recall_score, confusion"
   ]
  },
  {
   "cell_type": "code",
   "execution_count": 13,
   "id": "83d0c383-95fe-48a7-8093-b50e15f8787e",
   "metadata": {},
   "outputs": [],
   "source": [
    "def evaluate_log_classifier_with_smoothing(positive_instances, negative_instances, positive_probabilities, negative_probabilities, \n",
    "                                           total_positive_words, total_negative_words, vocab, alpha):\n",
    "    word_to_index = {word: i for i, word in enumerate(vocab)}\n",
    "    positive_prior = len(positive_instances) / (len(positive_instances) + len(negative_instances))\n",
    "    negative_prior = 1 - positive_prior\n",
    "\n",
    "    true_labels = []\n",
    "    predicted_labels = []\n",
    "\n",
    "    random.seed(10)\n",
    "    \n",
    "    for instance in positive_instances:\n",
    "        pos_log_prob = test_log_prob_with_smoothing(instance, positive_probabilities, positive_prior, total_positive_words, word_to_index, alpha)\n",
    "        neg_log_prob = test_log_prob_with_smoothing(instance, negative_probabilities, negative_prior, total_negative_words, word_to_index, alpha)\n",
    "        if pos_log_prob > neg_log_prob:\n",
    "            predicted_labels.append(1)\n",
    "        elif pos_log_prob < neg_log_prob:\n",
    "            predicted_labels.append(0)\n",
    "        else: \n",
    "            predicted_labels.append(random.choice([0, 1]))\n",
    "        true_labels.append(1)\n",
    "\n",
    "    for instance in negative_instances:\n",
    "        pos_log_prob = test_log_prob_with_smoothing(instance, positive_probabilities, positive_prior, total_positive_words, word_to_index, alpha)\n",
    "        neg_log_prob = test_log_prob_with_smoothing(instance, negative_probabilities, negative_prior, total_negative_words, word_to_index, alpha)\n",
    "        if pos_log_prob > neg_log_prob:\n",
    "            predicted_labels.append(1)\n",
    "        elif pos_log_prob < neg_log_prob:\n",
    "            predicted_labels.append(0)\n",
    "        else: \n",
    "            predicted_labels.append(random.choice([0, 1]))\n",
    "        true_labels.append(0)\n",
    "\n",
    "    accuracy_score = accuracy(true_labels, predicted_labels)\n",
    "    precision_score = precision(true_labels, predicted_labels)\n",
    "    recall_score = recall(true_labels, predicted_labels)\n",
    "    confusion = confusion_matrix(true_labels, predicted_labels)\n",
    "    return accuracy_score, precision_score, recall_score, confusion"
   ]
  },
  {
   "cell_type": "code",
   "execution_count": 34,
   "id": "451ba163-1eaa-49c3-8efc-b77dbc20e046",
   "metadata": {},
   "outputs": [],
   "source": [
    "def run_experiment(positive_instances, negative_instances, vocab, positive_test_instances, \n",
    "                   negative_test_instances, alpha, use_log_prob = False):\n",
    "    positive_probabilities, total_positive_words = compute_class_probability_matrix(positive_instances, vocab, alpha)\n",
    "    negative_probabilities, total_negative_words = compute_class_probability_matrix(negative_instances, vocab, alpha)\n",
    "    \n",
    "    if use_log_prob == True and alpha==0:\n",
    "            accuracy, precision, recall, confusion = evaluate_log_classifier(positive_test_instances, negative_test_instances, \n",
    "                                            positive_probabilities, negative_probabilities, vocab)\n",
    "    elif use_log_prob == True and alpha>0:\n",
    "            accuracy, precision, recall, confusion = evaluate_log_classifier_with_smoothing(positive_test_instances, negative_test_instances, \n",
    "                                            positive_probabilities, negative_probabilities,total_positive_words, total_negative_words, vocab, alpha)\n",
    "    else:\n",
    "        accuracy, precision, recall, confusion = evaluate_classifier(positive_test_instances, negative_test_instances, \n",
    "                                                                     positive_probabilities, negative_probabilities, vocab)\n",
    "    print(\"Accuracy:\", accuracy)\n",
    "    print(\"Precision:\", precision)\n",
    "    print(\"Recall:\", recall)\n",
    "    print(\"Confusion Matrix: \\n\", confusion)\n",
    "\n",
    "    return accuracy, precision, recall, confusion\n",
    "   "
   ]
  },
  {
   "cell_type": "markdown",
   "id": "ada71dbb-ac59-40d2-8f84-544107f28524",
   "metadata": {},
   "source": [
    "## Question 1\n",
    "\n",
    "# Posterior Probability"
   ]
  },
  {
   "cell_type": "code",
   "execution_count": 29,
   "id": "0937e7be-5ef8-4162-b943-335778a4b8a8",
   "metadata": {},
   "outputs": [],
   "source": [
    "train_size = 0.2\n",
    "test_size = 0.2\n",
    "positive_instances, negative_instances, vocab, positive_test_instances, negative_test_instances = load_dataset(0.2,0.2)"
   ]
  },
  {
   "cell_type": "code",
   "execution_count": 35,
   "id": "69c3db37-57b0-4d1a-a69c-d5ebfa0ddf4d",
   "metadata": {
    "scrolled": true
   },
   "outputs": [
    {
     "name": "stdout",
     "output_type": "stream",
     "text": [
      "Accuracy: 0.5109674892283588\n",
      "Precision: 0.5196911196911197\n",
      "Recall: 0.5178914967295114\n",
      "Confusion Matrix: \n",
      " [[1346. 1253.]\n",
      " [1244. 1263.]]\n"
     ]
    },
    {
     "data": {
      "text/plain": [
       "(0.5109674892283588,\n",
       " 0.5196911196911197,\n",
       " 0.5178914967295114,\n",
       " array([[1346., 1253.],\n",
       "        [1244., 1263.]]))"
      ]
     },
     "execution_count": 35,
     "metadata": {},
     "output_type": "execute_result"
    }
   ],
   "source": [
    "alpha = 0\n",
    "run_experiment(positive_instances, negative_instances, vocab, positive_test_instances, negative_test_instances, alpha)"
   ]
  },
  {
   "cell_type": "markdown",
   "id": "2922d437-72ec-4fc9-99e6-23bd4e478068",
   "metadata": {},
   "source": [
    "# Log Probability"
   ]
  },
  {
   "cell_type": "code",
   "execution_count": 17,
   "id": "dab3ff65-6ecf-49bc-af61-c7f2ae558015",
   "metadata": {},
   "outputs": [
    {
     "data": {
      "text/plain": [
       "(0.7518072289156627,\n",
       " 0.7806367204535543,\n",
       " 0.7094728497820055,\n",
       " array([[1790.,  733.],\n",
       "        [ 503., 1954.]]))"
      ]
     },
     "execution_count": 17,
     "metadata": {},
     "output_type": "execute_result"
    }
   ],
   "source": [
    "run_experiment(positive_instances, negative_instances, vocab, positive_test_instances, negative_test_instances, alpha, True)"
   ]
  },
  {
   "cell_type": "markdown",
   "id": "c8703fc1-795b-4cb6-882c-67ed05c708f1",
   "metadata": {},
   "source": [
    "## Question 2"
   ]
  },
  {
   "cell_type": "code",
   "execution_count": 18,
   "id": "5364c318-4779-434d-ae51-3ac76077b4cc",
   "metadata": {},
   "outputs": [],
   "source": [
    "train_size = 0.2\n",
    "test_size = 0.2\n",
    "positive_instances, negative_instances, vocab, positive_test_instances, negative_test_instances = load_dataset(train_size, test_size)"
   ]
  },
  {
   "cell_type": "code",
   "execution_count": 19,
   "id": "d7233e96-72a1-4e04-83dd-febaba661de3",
   "metadata": {},
   "outputs": [
    {
     "data": {
      "text/plain": [
       "(0.8084036992360274,\n",
       " 0.8473782771535581,\n",
       " 0.7427164546573656,\n",
       " array([[1810.,  627.],\n",
       "        [ 326., 2211.]]))"
      ]
     },
     "execution_count": 19,
     "metadata": {},
     "output_type": "execute_result"
    }
   ],
   "source": [
    "alpha = 1\n",
    "run_experiment(positive_instances, negative_instances, vocab, positive_test_instances, negative_test_instances, alpha, True)"
   ]
  },
  {
   "cell_type": "code",
   "execution_count": 20,
   "id": "883ab084-668d-4cb6-96ba-269c97ee6553",
   "metadata": {},
   "outputs": [],
   "source": [
    "#function to compute accuracy by varying alpha\n",
    "def vary_alpha(train_size, test_size, alphas):\n",
    "    accuracies = []\n",
    "    positive_instances, negative_instances, vocab, positive_test_instances, negative_test_instances = load_dataset(0.2,0.2)\n",
    "    for alpha in alphas:\n",
    "        accuracy, _, _, _ = run_experiment(positive_instances, negative_instances, vocab, \n",
    "                                           positive_test_instances, negative_test_instances, alpha, True)\n",
    "        accuracies.append(accuracy)\n",
    "    return accuracies"
   ]
  },
  {
   "cell_type": "code",
   "execution_count": 21,
   "id": "19c4a2a5-62be-4528-afee-52d1d52459c8",
   "metadata": {},
   "outputs": [
    {
     "name": "stdout",
     "output_type": "stream",
     "text": [
      "[0.7199437072778448, 0.7400482509047045, 0.7605548854041013, 0.7880981101728991, 0.8084036992360274, 0.8228789706473663, 0.8118214716525934, 0.7521109770808203]\n"
     ]
    }
   ],
   "source": [
    "train_size = 0.2\n",
    "test_size = 0.2\n",
    "alphas = [0.0001, 0.001, 0.01, 0.1, 1.0, 10, 100, 1000]\n",
    "accuracies = vary_alpha(train_size, test_size, alphas)\n",
    "print(accuracies)"
   ]
  },
  {
   "cell_type": "code",
   "execution_count": 22,
   "id": "6c9a8047-9746-485a-8c25-09a1b67ba7c1",
   "metadata": {},
   "outputs": [
    {
     "data": {
      "image/png": "[encoded data removed]",
      "text/plain": [
       "<Figure size 1000x600 with 1 Axes>"
      ]
     },
     "metadata": {},
     "output_type": "display_data"
    }
   ],
   "source": [
    "#plotting graph\n",
    "plt.figure(figsize=(10, 6))\n",
    "plt.plot(alphas, accuracies, marker='o')\n",
    "plt.xscale('log')\n",
    "plt.xlabel('Alpha')\n",
    "plt.ylabel('Accuracy')\n",
    "plt.title('Accuracy vs Alpha')\n",
    "plt.grid(True)\n",
    "plt.show()"
   ]
  },
  {
   "cell_type": "markdown",
   "id": "a06cf403-1c02-4805-869c-7ff30caadd90",
   "metadata": {},
   "source": [
    "## Question 3"
   ]
  },
  {
   "cell_type": "code",
   "execution_count": 23,
   "id": "d5fbd421-5a03-48cf-9a8f-a2f06fb45a19",
   "metadata": {},
   "outputs": [
    {
     "data": {
      "text/plain": [
       "(0.83692,\n",
       " 0.8686214442013129,\n",
       " 0.79392,\n",
       " array([[ 9924.,  2576.],\n",
       "        [ 1501., 10999.]]))"
      ]
     },
     "execution_count": 23,
     "metadata": {},
     "output_type": "execute_result"
    }
   ],
   "source": [
    "train_size = 1.0\n",
    "test_size = 1.0\n",
    "alpha = 10\n",
    "positive_instances, negative_instances, vocab, positive_test_instances, negative_test_instances = load_dataset(train_size, test_size)\n",
    "run_experiment(positive_instances, negative_instances, vocab, positive_test_instances, negative_test_instances, alpha, True)"
   ]
  },
  {
   "cell_type": "markdown",
   "id": "ee8bb1bf-6807-404a-947b-11b74a7c7a20",
   "metadata": {},
   "source": [
    "## Question 4"
   ]
  },
  {
   "cell_type": "code",
   "execution_count": 24,
   "id": "6dcf9d4f-6ea5-4f51-85e1-8d0734b67d8f",
   "metadata": {},
   "outputs": [
    {
     "data": {
      "text/plain": [
       "(0.8311450624651866,\n",
       " 0.8590909090909091,\n",
       " 0.7887640449438202,\n",
       " array([[4914., 1316.],\n",
       "        [ 806., 5531.]]))"
      ]
     },
     "execution_count": 24,
     "metadata": {},
     "output_type": "execute_result"
    }
   ],
   "source": [
    "train_size = 0.5\n",
    "test_size = 1.0\n",
    "alpha = 10\n",
    "positive_instances, negative_instances, vocab, positive_test_instances, negative_test_instances = load_dataset(train_size, test_size)\n",
    "run_experiment(positive_instances, negative_instances, vocab, positive_test_instances, negative_test_instances, alpha, True)"
   ]
  },
  {
   "cell_type": "markdown",
   "id": "d7730bbd-1119-4267-bda2-c3c6e9f0243d",
   "metadata": {},
   "source": [
    "## Question 6"
   ]
  },
  {
   "cell_type": "code",
   "execution_count": 25,
   "id": "9c46a2c3-ae7c-4137-9270-450547f43f1e",
   "metadata": {},
   "outputs": [
    {
     "data": {
      "text/plain": [
       "(0.50024,\n",
       " 0.875,\n",
       " 0.00056,\n",
       " array([[7.0000e+00, 1.2493e+04],\n",
       "        [1.0000e+00, 1.2499e+04]]))"
      ]
     },
     "execution_count": 25,
     "metadata": {},
     "output_type": "execute_result"
    }
   ],
   "source": [
    "pos_size = 0.1\n",
    "neg_size = 0.5\n",
    "test_size = 1.0\n",
    "alpha = 10\n",
    "positive_instances, negative_instances, vocab, positive_test_instances, negative_test_instances = load_dataset(test_size = test_size,\n",
    "                                                                                                    pos_size = pos_size, neg_size = neg_size)\n",
    "run_experiment(positive_instances, negative_instances, vocab, positive_test_instances, negative_test_instances, alpha, True)"
   ]
  }
 ],
 "metadata": {
  "kernelspec": {
   "display_name": "Python 3 (ipykernel)",
   "language": "python",
   "name": "python3"
  },
  "language_info": {
   "codemirror_mode": {
    "name": "ipython",
    "version": 3
   },
   "file_extension": ".py",
   "mimetype": "text/x-python",
   "name": "python",
   "nbconvert_exporter": "python",
   "pygments_lexer": "ipython3",
   "version": "3.9.6"
  }
 },
 "nbformat": 4,
 "nbformat_minor": 5
}
