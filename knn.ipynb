{
  "cells": [
    {
      "cell_type": "markdown",
      "source": [
        "https://scikit-learn.org/stable/modules/generated/sklearn.utils.shuffle.html\n",
        "\n",
        "https://scikit-learn.org/stable/modules/generated/sklearn.model_selection.train_test_split.html"
      ],
      "metadata": {
        "id": "AKyi-t45AiUZ"
      }
    },
    {
      "cell_type": "code",
      "execution_count": null,
      "metadata": {
        "colab": {
          "base_uri": "https://localhost:8080/"
        },
        "id": "ZtGZ8_rUwhtY",
        "outputId": "0a55a24e-c341-406c-a46c-f6d84683298c"
      },
      "outputs": [
        {
          "output_type": "stream",
          "name": "stdout",
          "text": [
            "Requirement already satisfied: numpy in /usr/local/lib/python3.10/dist-packages (1.25.2)\n",
            "Requirement already satisfied: pandas in /usr/local/lib/python3.10/dist-packages (1.5.3)\n",
            "Requirement already satisfied: python-dateutil>=2.8.1 in /usr/local/lib/python3.10/dist-packages (from pandas) (2.8.2)\n",
            "Requirement already satisfied: pytz>=2020.1 in /usr/local/lib/python3.10/dist-packages (from pandas) (2023.4)\n",
            "Requirement already satisfied: numpy>=1.21.0 in /usr/local/lib/python3.10/dist-packages (from pandas) (1.25.2)\n",
            "Requirement already satisfied: six>=1.5 in /usr/local/lib/python3.10/dist-packages (from python-dateutil>=2.8.1->pandas) (1.16.0)\n",
            "Requirement already satisfied: scikit-learn in /usr/local/lib/python3.10/dist-packages (1.2.2)\n",
            "Requirement already satisfied: numpy>=1.17.3 in /usr/local/lib/python3.10/dist-packages (from scikit-learn) (1.25.2)\n",
            "Requirement already satisfied: scipy>=1.3.2 in /usr/local/lib/python3.10/dist-packages (from scikit-learn) (1.11.4)\n",
            "Requirement already satisfied: joblib>=1.1.1 in /usr/local/lib/python3.10/dist-packages (from scikit-learn) (1.3.2)\n",
            "Requirement already satisfied: threadpoolctl>=2.0.0 in /usr/local/lib/python3.10/dist-packages (from scikit-learn) (3.3.0)\n",
            "Requirement already satisfied: matplotlib in /usr/local/lib/python3.10/dist-packages (3.7.1)\n",
            "Requirement already satisfied: contourpy>=1.0.1 in /usr/local/lib/python3.10/dist-packages (from matplotlib) (1.2.0)\n",
            "Requirement already satisfied: cycler>=0.10 in /usr/local/lib/python3.10/dist-packages (from matplotlib) (0.12.1)\n",
            "Requirement already satisfied: fonttools>=4.22.0 in /usr/local/lib/python3.10/dist-packages (from matplotlib) (4.49.0)\n",
            "Requirement already satisfied: kiwisolver>=1.0.1 in /usr/local/lib/python3.10/dist-packages (from matplotlib) (1.4.5)\n",
            "Requirement already satisfied: numpy>=1.20 in /usr/local/lib/python3.10/dist-packages (from matplotlib) (1.25.2)\n",
            "Requirement already satisfied: packaging>=20.0 in /usr/local/lib/python3.10/dist-packages (from matplotlib) (23.2)\n",
            "Requirement already satisfied: pillow>=6.2.0 in /usr/local/lib/python3.10/dist-packages (from matplotlib) (9.4.0)\n",
            "Requirement already satisfied: pyparsing>=2.3.1 in /usr/local/lib/python3.10/dist-packages (from matplotlib) (3.1.1)\n",
            "Requirement already satisfied: python-dateutil>=2.7 in /usr/local/lib/python3.10/dist-packages (from matplotlib) (2.8.2)\n",
            "Requirement already satisfied: six>=1.5 in /usr/local/lib/python3.10/dist-packages (from python-dateutil>=2.7->matplotlib) (1.16.0)\n"
          ]
        }
      ],
      "source": [
        "#installing all relevant lodules\n",
        "!pip3 install numpy\n",
        "!pip3 install pandas\n",
        "!pip3 install scikit-learn\n",
        "!pip install matplotlib"
      ]
    },
    {
      "cell_type": "code",
      "source": [
        "#importing libraries\n",
        "import pandas as pd\n",
        "import numpy as np\n",
        "from sklearn.model_selection import train_test_split\n",
        "from sklearn.utils import shuffle\n",
        "import matplotlib.pyplot as plt"
      ],
      "metadata": {
        "id": "2QUCVTzNUUz5"
      },
      "execution_count": 4,
      "outputs": []
    },
    {
      "cell_type": "code",
      "execution_count": 5,
      "metadata": {
        "id": "5-Mq94ECwhta"
      },
      "outputs": [],
      "source": [
        "TRAIN_DATA_FILE_PATH = \"/content/iris.csv\""
      ]
    },
    {
      "cell_type": "code",
      "execution_count": 6,
      "metadata": {
        "id": "Wie-E7w4whta"
      },
      "outputs": [],
      "source": [
        "#loading the dataset\n",
        "iris_data = pd.read_csv(TRAIN_DATA_FILE_PATH, header=None)\n",
        "iris_data.columns = [\"sepal_length\", \"sepal_width\", \"petal_length\", \"petal_width\",\"label\"]"
      ]
    },
    {
      "cell_type": "code",
      "execution_count": 7,
      "metadata": {
        "colab": {
          "base_uri": "https://localhost:8080/"
        },
        "id": "oN8cmb_cwhta",
        "outputId": "a5c2934d-a000-4ae5-be49-fb64f8719dbc"
      },
      "outputs": [
        {
          "output_type": "execute_result",
          "data": {
            "text/plain": [
              "sepal_length    0\n",
              "sepal_width     0\n",
              "petal_length    0\n",
              "petal_width     0\n",
              "label           0\n",
              "dtype: int64"
            ]
          },
          "metadata": {},
          "execution_count": 7
        }
      ],
      "source": [
        "#checking for null values if any\n",
        "iris_data.isnull().sum()"
      ]
    },
    {
      "cell_type": "code",
      "source": [
        "#understanding the statiscal features of data\n",
        "iris_data.describe()"
      ],
      "metadata": {
        "colab": {
          "base_uri": "https://localhost:8080/",
          "height": 300
        },
        "id": "Ngbm5dc5WaGz",
        "outputId": "a9344a55-8682-4802-b6a7-352fb43d4e3f"
      },
      "execution_count": 9,
      "outputs": [
        {
          "output_type": "execute_result",
          "data": {
            "text/plain": [
              "       sepal_length  sepal_width  petal_length  petal_width\n",
              "count    150.000000   150.000000    150.000000   150.000000\n",
              "mean       5.843333     3.054000      3.758667     1.198667\n",
              "std        0.828066     0.433594      1.764420     0.763161\n",
              "min        4.300000     2.000000      1.000000     0.100000\n",
              "25%        5.100000     2.800000      1.600000     0.300000\n",
              "50%        5.800000     3.000000      4.350000     1.300000\n",
              "75%        6.400000     3.300000      5.100000     1.800000\n",
              "max        7.900000     4.400000      6.900000     2.500000"
            ],
            "text/html": [
              "\n",
              "  <div id=\"df-e9563a00-ecab-4c4e-b02f-610c41545bc1\" class=\"colab-df-container\">\n",
              "    <div>\n",
              "<style scoped>\n",
              "    .dataframe tbody tr th:only-of-type {\n",
              "        vertical-align: middle;\n",
              "    }\n",
              "\n",
              "    .dataframe tbody tr th {\n",
              "        vertical-align: top;\n",
              "    }\n",
              "\n",
              "    .dataframe thead th {\n",
              "        text-align: right;\n",
              "    }\n",
              "</style>\n",
              "<table border=\"1\" class=\"dataframe\">\n",
              "  <thead>\n",
              "    <tr style=\"text-align: right;\">\n",
              "      <th></th>\n",
              "      <th>sepal_length</th>\n",
              "      <th>sepal_width</th>\n",
              "      <th>petal_length</th>\n",
              "      <th>petal_width</th>\n",
              "    </tr>\n",
              "  </thead>\n",
              "  <tbody>\n",
              "    <tr>\n",
              "      <th>count</th>\n",
              "      <td>150.000000</td>\n",
              "      <td>150.000000</td>\n",
              "      <td>150.000000</td>\n",
              "      <td>150.000000</td>\n",
              "    </tr>\n",
              "    <tr>\n",
              "      <th>mean</th>\n",
              "      <td>5.843333</td>\n",
              "      <td>3.054000</td>\n",
              "      <td>3.758667</td>\n",
              "      <td>1.198667</td>\n",
              "    </tr>\n",
              "    <tr>\n",
              "      <th>std</th>\n",
              "      <td>0.828066</td>\n",
              "      <td>0.433594</td>\n",
              "      <td>1.764420</td>\n",
              "      <td>0.763161</td>\n",
              "    </tr>\n",
              "    <tr>\n",
              "      <th>min</th>\n",
              "      <td>4.300000</td>\n",
              "      <td>2.000000</td>\n",
              "      <td>1.000000</td>\n",
              "      <td>0.100000</td>\n",
              "    </tr>\n",
              "    <tr>\n",
              "      <th>25%</th>\n",
              "      <td>5.100000</td>\n",
              "      <td>2.800000</td>\n",
              "      <td>1.600000</td>\n",
              "      <td>0.300000</td>\n",
              "    </tr>\n",
              "    <tr>\n",
              "      <th>50%</th>\n",
              "      <td>5.800000</td>\n",
              "      <td>3.000000</td>\n",
              "      <td>4.350000</td>\n",
              "      <td>1.300000</td>\n",
              "    </tr>\n",
              "    <tr>\n",
              "      <th>75%</th>\n",
              "      <td>6.400000</td>\n",
              "      <td>3.300000</td>\n",
              "      <td>5.100000</td>\n",
              "      <td>1.800000</td>\n",
              "    </tr>\n",
              "    <tr>\n",
              "      <th>max</th>\n",
              "      <td>7.900000</td>\n",
              "      <td>4.400000</td>\n",
              "      <td>6.900000</td>\n",
              "      <td>2.500000</td>\n",
              "    </tr>\n",
              "  </tbody>\n",
              "</table>\n",
              "</div>\n",
              "    <div class=\"colab-df-buttons\">\n",
              "\n",
              "  <div class=\"colab-df-container\">\n",
              "    <button class=\"colab-df-convert\" onclick=\"convertToInteractive('df-e9563a00-ecab-4c4e-b02f-610c41545bc1')\"\n",
              "            title=\"Convert this dataframe to an interactive table.\"\n",
              "            style=\"display:none;\">\n",
              "\n",
              "  <svg xmlns=\"http://www.w3.org/2000/svg\" height=\"24px\" viewBox=\"0 -960 960 960\">\n",
              "    <path d=\"M120-120v-720h720v720H120Zm60-500h600v-160H180v160Zm220 220h160v-160H400v160Zm0 220h160v-160H400v160ZM180-400h160v-160H180v160Zm440 0h160v-160H620v160ZM180-180h160v-160H180v160Zm440 0h160v-160H620v160Z\"/>\n",
              "  </svg>\n",
              "    </button>\n",
              "\n",
              "  <style>\n",
              "    .colab-df-container {\n",
              "      display:flex;\n",
              "      gap: 12px;\n",
              "    }\n",
              "\n",
              "    .colab-df-convert {\n",
              "      background-color: #E8F0FE;\n",
              "      border: none;\n",
              "      border-radius: 50%;\n",
              "      cursor: pointer;\n",
              "      display: none;\n",
              "      fill: #1967D2;\n",
              "      height: 32px;\n",
              "      padding: 0 0 0 0;\n",
              "      width: 32px;\n",
              "    }\n",
              "\n",
              "    .colab-df-convert:hover {\n",
              "      background-color: #E2EBFA;\n",
              "      box-shadow: 0px 1px 2px rgba(60, 64, 67, 0.3), 0px 1px 3px 1px rgba(60, 64, 67, 0.15);\n",
              "      fill: #174EA6;\n",
              "    }\n",
              "\n",
              "    .colab-df-buttons div {\n",
              "      margin-bottom: 4px;\n",
              "    }\n",
              "\n",
              "    [theme=dark] .colab-df-convert {\n",
              "      background-color: #3B4455;\n",
              "      fill: #D2E3FC;\n",
              "    }\n",
              "\n",
              "    [theme=dark] .colab-df-convert:hover {\n",
              "      background-color: #434B5C;\n",
              "      box-shadow: 0px 1px 3px 1px rgba(0, 0, 0, 0.15);\n",
              "      filter: drop-shadow(0px 1px 2px rgba(0, 0, 0, 0.3));\n",
              "      fill: #FFFFFF;\n",
              "    }\n",
              "  </style>\n",
              "\n",
              "    <script>\n",
              "      const buttonEl =\n",
              "        document.querySelector('#df-e9563a00-ecab-4c4e-b02f-610c41545bc1 button.colab-df-convert');\n",
              "      buttonEl.style.display =\n",
              "        google.colab.kernel.accessAllowed ? 'block' : 'none';\n",
              "\n",
              "      async function convertToInteractive(key) {\n",
              "        const element = document.querySelector('#df-e9563a00-ecab-4c4e-b02f-610c41545bc1');\n",
              "        const dataTable =\n",
              "          await google.colab.kernel.invokeFunction('convertToInteractive',\n",
              "                                                    [key], {});\n",
              "        if (!dataTable) return;\n",
              "\n",
              "        const docLinkHtml = 'Like what you see? Visit the ' +\n",
              "          '<a target=\"_blank\" href=https://colab.research.google.com/notebooks/data_table.ipynb>data table notebook</a>'\n",
              "          + ' to learn more about interactive tables.';\n",
              "        element.innerHTML = '';\n",
              "        dataTable['output_type'] = 'display_data';\n",
              "        await google.colab.output.renderOutput(dataTable, element);\n",
              "        const docLink = document.createElement('div');\n",
              "        docLink.innerHTML = docLinkHtml;\n",
              "        element.appendChild(docLink);\n",
              "      }\n",
              "    </script>\n",
              "  </div>\n",
              "\n",
              "\n",
              "<div id=\"df-ec4e219e-5b18-4b78-8f47-e7d3585791ee\">\n",
              "  <button class=\"colab-df-quickchart\" onclick=\"quickchart('df-ec4e219e-5b18-4b78-8f47-e7d3585791ee')\"\n",
              "            title=\"Suggest charts\"\n",
              "            style=\"display:none;\">\n",
              "\n",
              "<svg xmlns=\"http://www.w3.org/2000/svg\" height=\"24px\"viewBox=\"0 0 24 24\"\n",
              "     width=\"24px\">\n",
              "    <g>\n",
              "        <path d=\"M19 3H5c-1.1 0-2 .9-2 2v14c0 1.1.9 2 2 2h14c1.1 0 2-.9 2-2V5c0-1.1-.9-2-2-2zM9 17H7v-7h2v7zm4 0h-2V7h2v10zm4 0h-2v-4h2v4z\"/>\n",
              "    </g>\n",
              "</svg>\n",
              "  </button>\n",
              "\n",
              "<style>\n",
              "  .colab-df-quickchart {\n",
              "      --bg-color: #E8F0FE;\n",
              "      --fill-color: #1967D2;\n",
              "      --hover-bg-color: #E2EBFA;\n",
              "      --hover-fill-color: #174EA6;\n",
              "      --disabled-fill-color: #AAA;\n",
              "      --disabled-bg-color: #DDD;\n",
              "  }\n",
              "\n",
              "  [theme=dark] .colab-df-quickchart {\n",
              "      --bg-color: #3B4455;\n",
              "      --fill-color: #D2E3FC;\n",
              "      --hover-bg-color: #434B5C;\n",
              "      --hover-fill-color: #FFFFFF;\n",
              "      --disabled-bg-color: #3B4455;\n",
              "      --disabled-fill-color: #666;\n",
              "  }\n",
              "\n",
              "  .colab-df-quickchart {\n",
              "    background-color: var(--bg-color);\n",
              "    border: none;\n",
              "    border-radius: 50%;\n",
              "    cursor: pointer;\n",
              "    display: none;\n",
              "    fill: var(--fill-color);\n",
              "    height: 32px;\n",
              "    padding: 0;\n",
              "    width: 32px;\n",
              "  }\n",
              "\n",
              "  .colab-df-quickchart:hover {\n",
              "    background-color: var(--hover-bg-color);\n",
              "    box-shadow: 0 1px 2px rgba(60, 64, 67, 0.3), 0 1px 3px 1px rgba(60, 64, 67, 0.15);\n",
              "    fill: var(--button-hover-fill-color);\n",
              "  }\n",
              "\n",
              "  .colab-df-quickchart-complete:disabled,\n",
              "  .colab-df-quickchart-complete:disabled:hover {\n",
              "    background-color: var(--disabled-bg-color);\n",
              "    fill: var(--disabled-fill-color);\n",
              "    box-shadow: none;\n",
              "  }\n",
              "\n",
              "  .colab-df-spinner {\n",
              "    border: 2px solid var(--fill-color);\n",
              "    border-color: transparent;\n",
              "    border-bottom-color: var(--fill-color);\n",
              "    animation:\n",
              "      spin 1s steps(1) infinite;\n",
              "  }\n",
              "\n",
              "  @keyframes spin {\n",
              "    0% {\n",
              "      border-color: transparent;\n",
              "      border-bottom-color: var(--fill-color);\n",
              "      border-left-color: var(--fill-color);\n",
              "    }\n",
              "    20% {\n",
              "      border-color: transparent;\n",
              "      border-left-color: var(--fill-color);\n",
              "      border-top-color: var(--fill-color);\n",
              "    }\n",
              "    30% {\n",
              "      border-color: transparent;\n",
              "      border-left-color: var(--fill-color);\n",
              "      border-top-color: var(--fill-color);\n",
              "      border-right-color: var(--fill-color);\n",
              "    }\n",
              "    40% {\n",
              "      border-color: transparent;\n",
              "      border-right-color: var(--fill-color);\n",
              "      border-top-color: var(--fill-color);\n",
              "    }\n",
              "    60% {\n",
              "      border-color: transparent;\n",
              "      border-right-color: var(--fill-color);\n",
              "    }\n",
              "    80% {\n",
              "      border-color: transparent;\n",
              "      border-right-color: var(--fill-color);\n",
              "      border-bottom-color: var(--fill-color);\n",
              "    }\n",
              "    90% {\n",
              "      border-color: transparent;\n",
              "      border-bottom-color: var(--fill-color);\n",
              "    }\n",
              "  }\n",
              "</style>\n",
              "\n",
              "  <script>\n",
              "    async function quickchart(key) {\n",
              "      const quickchartButtonEl =\n",
              "        document.querySelector('#' + key + ' button');\n",
              "      quickchartButtonEl.disabled = true;  // To prevent multiple clicks.\n",
              "      quickchartButtonEl.classList.add('colab-df-spinner');\n",
              "      try {\n",
              "        const charts = await google.colab.kernel.invokeFunction(\n",
              "            'suggestCharts', [key], {});\n",
              "      } catch (error) {\n",
              "        console.error('Error during call to suggestCharts:', error);\n",
              "      }\n",
              "      quickchartButtonEl.classList.remove('colab-df-spinner');\n",
              "      quickchartButtonEl.classList.add('colab-df-quickchart-complete');\n",
              "    }\n",
              "    (() => {\n",
              "      let quickchartButtonEl =\n",
              "        document.querySelector('#df-ec4e219e-5b18-4b78-8f47-e7d3585791ee button');\n",
              "      quickchartButtonEl.style.display =\n",
              "        google.colab.kernel.accessAllowed ? 'block' : 'none';\n",
              "    })();\n",
              "  </script>\n",
              "</div>\n",
              "\n",
              "    </div>\n",
              "  </div>\n"
            ],
            "application/vnd.google.colaboratory.intrinsic+json": {
              "type": "dataframe",
              "summary": "{\n  \"name\": \"iris_data\",\n  \"rows\": 8,\n  \"fields\": [\n    {\n      \"column\": \"sepal_length\",\n      \"properties\": {\n        \"dtype\": \"number\",\n        \"std\": 51.24711349471842,\n        \"min\": 0.828066127977863,\n        \"max\": 150.0,\n        \"num_unique_values\": 8,\n        \"samples\": [\n          5.843333333333334,\n          5.8,\n          150.0\n        ],\n        \"semantic_type\": \"\",\n        \"description\": \"\"\n      }\n    },\n    {\n      \"column\": \"sepal_width\",\n      \"properties\": {\n        \"dtype\": \"number\",\n        \"std\": 52.08647211421483,\n        \"min\": 0.4335943113621737,\n        \"max\": 150.0,\n        \"num_unique_values\": 8,\n        \"samples\": [\n          3.0540000000000003,\n          3.0,\n          150.0\n        ],\n        \"semantic_type\": \"\",\n        \"description\": \"\"\n      }\n    },\n    {\n      \"column\": \"petal_length\",\n      \"properties\": {\n        \"dtype\": \"number\",\n        \"std\": 51.835227940958106,\n        \"min\": 1.0,\n        \"max\": 150.0,\n        \"num_unique_values\": 8,\n        \"samples\": [\n          3.758666666666666,\n          4.35,\n          150.0\n        ],\n        \"semantic_type\": \"\",\n        \"description\": \"\"\n      }\n    },\n    {\n      \"column\": \"petal_width\",\n      \"properties\": {\n        \"dtype\": \"number\",\n        \"std\": 52.636634243409915,\n        \"min\": 0.1,\n        \"max\": 150.0,\n        \"num_unique_values\": 8,\n        \"samples\": [\n          1.1986666666666668,\n          1.3,\n          150.0\n        ],\n        \"semantic_type\": \"\",\n        \"description\": \"\"\n      }\n    }\n  ]\n}"
            }
          },
          "metadata": {},
          "execution_count": 9
        }
      ]
    },
    {
      "cell_type": "code",
      "source": [
        "def euclidean_distance(x1, x2):\n",
        "    \"\"\"\n",
        "      computes the euclidean distance between two points in n-dimensional space\n",
        "\n",
        "      Parameters:\n",
        "      x1: representing the coordinates of the first point\n",
        "      x2: representing the coordinates of the second point\n",
        "\n",
        "      returns: the euclidean distance between the two points\n",
        "    \"\"\"\n",
        "    return np.sqrt(np.sum((x1 - x2) ** 2))\n",
        "\n",
        "def normalize_features(min_vals, max_vals, data):\n",
        "    \"\"\"\n",
        "        normalizes the features in the given data using min-max normalization\n",
        "        if min_vals and max_vals are not provided, they are calculated from the data\n",
        "\n",
        "        Parameters:\n",
        "        min_vals: minimum values for normalization\n",
        "        max_vals: maximum values for normalization\n",
        "        data: contains the data to be normalized.\n",
        "\n",
        "        returns:\n",
        "        normalized_data: the normalized data\n",
        "        min_vals: the minimum values used for normalization.\n",
        "        max_vals: the maximum values used for normalization.\n",
        "    \"\"\"\n",
        "    if min_vals is None or max_vals is None:\n",
        "        min_vals = np.min(data, axis=0)\n",
        "        max_vals = np.max(data, axis=0)\n",
        "    normalized_data = (data - min_vals) / (max_vals - min_vals)\n",
        "    return normalized_data, min_vals, max_vals\n",
        "\n",
        "def compute_distances(test_instances, train_instances):\n",
        "    \"\"\"\n",
        "      computes the euclidean distances between each test instance and each train instance\n",
        "\n",
        "      Parameters:\n",
        "      test_instances: contains the test instances\n",
        "      train_instances: contains the train instances\n",
        "\n",
        "      returns: the distance matrix where distances[i, j] represents the\n",
        "      euclidean distance between the ith test instance and the jth train instance\n",
        "    \"\"\"\n",
        "    distances = np.zeros((len(test_instances), len(train_instances)))\n",
        "    for i, x1 in enumerate(test_instances.values):\n",
        "        for j, x2 in enumerate(train_instances.values):\n",
        "            if i == j:\n",
        "                continue\n",
        "            else:\n",
        "                distances[i, j] = euclidean_distance(x1, x2)\n",
        "    return distances\n",
        "\n",
        "def predict(neighbors, labels):\n",
        "    \"\"\"\n",
        "      predicts the label for a given set of neighbors based on majority voting\n",
        "\n",
        "      Parameters:\n",
        "      neighbors: contains the indices of the neighbors\n",
        "      labels: contains the labels corresponding to the neighbor\n",
        "\n",
        "      returns: The predicted label based on majority voting among the neighbors\n",
        "    \"\"\"\n",
        "    isetosa = 0\n",
        "    ivirginica = 0\n",
        "    iversicolor = 0\n",
        "    for neighbor in neighbors:\n",
        "        if labels.iloc[neighbor] == 'Iris-setosa':\n",
        "            isetosa += 1\n",
        "        elif labels.iloc[neighbor] == 'Iris-virginica':\n",
        "            ivirginica += 1\n",
        "        else:\n",
        "            iversicolor += 1\n",
        "    return find_highest_count_label(isetosa, ivirginica, iversicolor)\n",
        "\n",
        "def get_predictions(distances, k, y_train):\n",
        "    \"\"\"\n",
        "      generates predictions for each instance in the test set based on the distances\n",
        "      to its k nearest neighbors in the training set\n",
        "\n",
        "      Parameters:\n",
        "      distances: contains the distances between test instances and train instances\n",
        "      k: the number of nearest neighbors to consider\n",
        "      y_train: contains the labels of the instances in the training set\n",
        "\n",
        "      returns: the predicted labels for each instance in the test set\n",
        "    \"\"\"\n",
        "    predictions = []\n",
        "    for distance in distances:\n",
        "        knn_indices = np.argsort(distance)[:k]\n",
        "        prediction = predict(knn_indices, y_train)\n",
        "        predictions.append(prediction)\n",
        "    return predictions\n",
        "\n",
        "def find_highest_count_label(isetosa, ivirginica, iversicolor):\n",
        "    \"\"\"\n",
        "      finds the label with the highest count among the provided counts for\n",
        "      different classes\n",
        "\n",
        "      Parameters:\n",
        "      isetosa: count of occurrences for'Iris-setosa'\n",
        "      ivirginica: count of occurrences for 'Iris-virginica'\n",
        "      iversicolor: count of occurrences for 'Iris-versicolor'\n",
        "\n",
        "      returns: the label with the highest count among the provided counts\n",
        "    \"\"\"\n",
        "    counts = {\n",
        "        'Iris-setosa': isetosa,\n",
        "        'Iris-virginica': ivirginica,\n",
        "        'Iris-versicolor': iversicolor\n",
        "    }\n",
        "    return max(counts, key=counts.get)\n",
        "\n",
        "def evaluate(predicted_labels, true_labels):\n",
        "    \"\"\"\n",
        "      evaluates the accuracy of predicted labels compared to true labels\n",
        "\n",
        "      Parameters:\n",
        "      predicted_labels: contains the predicted labels\n",
        "      true_labels: contains the true labels\n",
        "\n",
        "      returns: the accuracy of the predicted labels compared to the true labels\n",
        "    \"\"\"\n",
        "    if len(predicted_labels) != len(true_labels):\n",
        "        raise ValueError(\"Error: len(predicted_labels) != len(true_labels)\")\n",
        "    correct_predictions = sum(1 for pred, true in zip(predicted_labels, true_labels) if pred == true)\n",
        "    total_samples = len(true_labels)\n",
        "    accuracy = correct_predictions / total_samples\n",
        "\n",
        "    return accuracy"
      ],
      "metadata": {
        "id": "cw9xvA-co2kC"
      },
      "execution_count": null,
      "outputs": []
    },
    {
      "cell_type": "markdown",
      "source": [
        "# Running KNN with Normalization"
      ],
      "metadata": {
        "id": "DYGhfqdF8-NO"
      }
    },
    {
      "cell_type": "code",
      "source": [
        "#number of trials for each value of k\n",
        "num_of_trials = 20\n",
        "\n",
        "#values of k to be tested\n",
        "k_values = list(range(1, 52, 2))\n",
        "\n",
        "avg_train_acc = []\n",
        "train_std_dv = []\n",
        "avg_test_acc = []\n",
        "test_std_dv = []\n",
        "\n",
        "for k in k_values:\n",
        "    train_accuracies = []\n",
        "    test_accuracies = []\n",
        "    for trial in range(0,num_of_trials):\n",
        "        #shuffling the data to avoid any learning issues due to order of data\n",
        "        shuffled_iris = shuffle(iris_data)\n",
        "        X = shuffled_iris[[ 'sepal_length','sepal_width','petal_length','petal_width']]\n",
        "        Y = shuffled_iris['label']\n",
        "        x_train,x_test,y_train,y_test=train_test_split(X,Y,stratify=Y,test_size=0.20)\n",
        "\n",
        "        #normalizing the train features and thereafter test features\n",
        "        x_train, min_vals, max_vals = normalize_features(None, None, data = x_train)\n",
        "        x_test, min_vals, max_vals = normalize_features(min_vals, max_vals, data = x_test)\n",
        "\n",
        "        #computing distances and getting predictions for training set to compute training accuracy\n",
        "        train_distances = compute_distances(x_train, x_train)\n",
        "        train_predictions = get_predictions(train_distances, k, y_train)\n",
        "        train_accuracy = evaluate(train_predictions, y_train)\n",
        "        train_accuracies.append(train_accuracy)\n",
        "\n",
        "        #computing distances and getting predictions for testing set to compute testing accuracy\n",
        "        test_distances = compute_distances(x_test, x_train)\n",
        "        test_predictions = get_predictions(test_distances, k, y_train)\n",
        "        test_accuracy = evaluate(test_predictions, y_test)\n",
        "        test_accuracies.append(test_accuracy)\n",
        "\n",
        "    #calculating mean and standard deviation of training and test accuracies\n",
        "    avg_train_acc.append(np.mean(train_accuracies))\n",
        "    train_std_dv.append(np.std(train_accuracies))\n",
        "    avg_test_acc.append(np.mean(test_accuracies))\n",
        "    test_std_dv.append(np.std(test_accuracies))"
      ],
      "metadata": {
        "id": "0PyOvxms7x3L"
      },
      "execution_count": null,
      "outputs": []
    },
    {
      "cell_type": "markdown",
      "source": [
        "# Plotting Q1.1: Average accuracy of models trained over the training set"
      ],
      "metadata": {
        "id": "K4Owd4bW9FPl"
      }
    },
    {
      "cell_type": "code",
      "source": [
        "plt.errorbar(k_values, avg_train_acc, yerr=train_std_dv, label='Training Set', fmt='-o')\n",
        "plt.xlabel('Value of k')\n",
        "plt.ylabel('Average Accuracy')\n",
        "plt.title('Average Accuracy over Training Set for Different Values of k')\n",
        "plt.legend()\n",
        "plt.grid(True)\n",
        "plt.show()"
      ],
      "metadata": {
        "colab": {
          "base_uri": "https://localhost:8080/",
          "height": 472
        },
        "id": "07FGtKg6XqRh",
        "outputId": "80c90f03-c6a0-4dda-994b-920d8835c514"
      },
      "execution_count": null,
      "outputs": [
        {
          "output_type": "display_data",
          "data": {
            "text/plain": [
              "<Figure size 640x480 with 1 Axes>"
            ],
            "image/png": "[encoded data removed]"
          },
          "metadata": {}
        }
      ]
    },
    {
      "cell_type": "markdown",
      "source": [
        "# Plotting Q1.2: Average accuracy of models trained over the testing set\n"
      ],
      "metadata": {
        "id": "6ulESC0z9JUy"
      }
    },
    {
      "cell_type": "code",
      "source": [
        "plt.errorbar(k_values, avg_test_acc, yerr=test_std_dv, label='Testing Set', fmt='-o')\n",
        "plt.xlabel('Value of k')\n",
        "plt.ylabel('Average Accuracy')\n",
        "plt.title('Average Accuracy over Testing Set for Different Values of k')\n",
        "plt.legend()\n",
        "plt.grid(True)\n",
        "plt.show()"
      ],
      "metadata": {
        "colab": {
          "base_uri": "https://localhost:8080/",
          "height": 472
        },
        "id": "PuWk1qRtgVmx",
        "outputId": "fcf74432-816d-4e03-be3c-30ed07814c70"
      },
      "execution_count": null,
      "outputs": [
        {
          "output_type": "display_data",
          "data": {
            "text/plain": [
              "<Figure size 640x480 with 1 Axes>"
            ],
            "image/png": "[encoded data removed]"
          },
          "metadata": {}
        }
      ]
    },
    {
      "cell_type": "markdown",
      "source": [
        "# Running KNN without Normalization"
      ],
      "metadata": {
        "id": "OMcwkZQP9Nvd"
      }
    },
    {
      "cell_type": "code",
      "source": [
        "#number of trials for each value of k\n",
        "num_of_trials = 20\n",
        "\n",
        "#values of k to be tested\n",
        "k_values = list(range(1, 52, 2))\n",
        "\n",
        "avg_train_acc = []\n",
        "train_std_dv = []\n",
        "avg_test_acc = []\n",
        "test_std_dv = []\n",
        "\n",
        "for k in k_values:\n",
        "    train_accuracies = []\n",
        "    test_accuracies = []\n",
        "    for trial in range(0,num_of_trials):\n",
        "        #shuffling the data to avoid any learning issues due to order of data\n",
        "        shuffled_iris = shuffle(iris_data)\n",
        "        X = shuffled_iris[[ 'sepal_length','sepal_width','petal_length','petal_width']]\n",
        "        Y = shuffled_iris['label']\n",
        "        x_train,x_test,y_train,y_test=train_test_split(X,Y,stratify=Y,test_size=0.20)\n",
        "\n",
        "        #computing distances and getting predictions for training set to compute training accuracy\n",
        "        train_distances = compute_distances(x_train, x_train)\n",
        "        train_predictions = get_predictions(train_distances, k, y_train)\n",
        "        train_accuracy = evaluate(train_predictions, y_train)\n",
        "        train_accuracies.append(train_accuracy)\n",
        "\n",
        "        #computing distances and getting predictions for testing set to compute testing accuracy\n",
        "        test_distances = compute_distances(x_test, x_train)\n",
        "        test_predictions = get_predictions(test_distances, k, y_train)\n",
        "        test_accuracy = evaluate(test_predictions, y_test)\n",
        "        test_accuracies.append(test_accuracy)\n",
        "\n",
        "    #calculating mean and standard deviation of training and test accuracies\n",
        "    avg_train_acc.append(np.mean(train_accuracies))\n",
        "    train_std_dv.append(np.std(train_accuracies))\n",
        "    avg_test_acc.append(np.mean(test_accuracies))\n",
        "    test_std_dv.append(np.std(test_accuracies))"
      ],
      "metadata": {
        "id": "mSEgPqWdrG9i"
      },
      "execution_count": null,
      "outputs": []
    },
    {
      "cell_type": "markdown",
      "source": [
        "# Plotting Q1.5: Average accuracy of models trained over the testing set without normalization"
      ],
      "metadata": {
        "id": "kv9d4gGB9Wap"
      }
    },
    {
      "cell_type": "code",
      "source": [
        "plt.errorbar(k_values, avg_test_acc, yerr=test_std_dv, label='Testing Set', fmt='-o')\n",
        "plt.xlabel('Value of k')\n",
        "plt.ylabel('Average Accuracy')\n",
        "plt.title('Average Accuracy over Testing Set for Different Values of k')\n",
        "plt.legend()\n",
        "plt.grid(True)\n",
        "plt.show()"
      ],
      "metadata": {
        "colab": {
          "base_uri": "https://localhost:8080/",
          "height": 472
        },
        "id": "7yQ1ZUX536WY",
        "outputId": "8963946c-096b-421b-db43-d76f789dc499"
      },
      "execution_count": null,
      "outputs": [
        {
          "output_type": "display_data",
          "data": {
            "text/plain": [
              "<Figure size 640x480 with 1 Axes>"
            ],
            "image/png": "[encoded data removed]"
          },
          "metadata": {}
        }
      ]
    }
  ],
  "metadata": {
    "kernelspec": {
      "display_name": "Python 3.10.7 64-bit",
      "language": "python",
      "name": "python3"
    },
    "language_info": {
      "codemirror_mode": {
        "name": "ipython",
        "version": 3
      },
      "file_extension": ".py",
      "mimetype": "text/x-python",
      "name": "python",
      "nbconvert_exporter": "python",
      "pygments_lexer": "ipython3",
      "version": "3.10.7"
    },
    "orig_nbformat": 4,
    "vscode": {
      "interpreter": {
        "hash": "aee8b7b246df8f9039afb4144a1f6fd8d2ca17a180786b69acc140d282b71a49"
      }
    },
    "colab": {
      "provenance": []
    }
  },
  "nbformat": 4,
  "nbformat_minor": 0
}